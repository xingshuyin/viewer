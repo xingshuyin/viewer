{
 "cells": [
  {
   "cell_type": "code",
   "execution_count": 2,
   "metadata": {},
   "outputs": [],
   "source": [
    "import os\n",
    "import json"
   ]
  },
  {
   "cell_type": "markdown",
   "metadata": {},
   "source": [
    "去重 排序"
   ]
  },
  {
   "cell_type": "code",
   "execution_count": 3,
   "metadata": {},
   "outputs": [
    {
     "name": "stdout",
     "output_type": "stream",
     "text": [
      "06se_filter.json 12229\n",
      "cos.json 68\n",
      "cosporn.json 26010\n",
      "cybesx_cosplay.json 59299\n",
      "cybesx_goddess.json 570\n",
      "cybesx_model.json 55438\n",
      "cybesx_selfiephoto.json 3519\n",
      "cybesx_siwa.json 81563\n",
      "cybesx_streetphotography.json 13966\n",
      "jiepai.json 1391\n",
      "kdsomy.json 315\n",
      "lingleis-mtsw.json 66804\n",
      "lingleis-qcym.json 11609\n",
      "lingleis.json 109639\n",
      "luoli111_39.json 7647\n",
      "luoli111_40.json 10461\n",
      "luoli111_41.json 21797\n",
      "luoli111_42.json 16879\n",
      "luoli111_43.json 5178\n",
      "mh3515-ai.json 2387\n",
      "mh3515-jp.json 2034\n",
      "mh3515-mh.json 43038\n",
      "mh3515-mv.json 9673\n",
      "mh3515-qq.json 1457\n",
      "mh3515-sptu.json 1063\n",
      "mh3515-yh.json 8510\n",
      "mh3515-zz.json 985\n",
      "oumei.json 0\n",
      "sslkn.json 36945\n",
      "taotuhome.json 75113\n",
      "taotuhome_xgyw.json 11884\n",
      "yuyu.json 180\n",
      "zipaipic.json 67147\n"
     ]
    }
   ],
   "source": [
    "for i in os.listdir(r'D:/python/viewer/src/renderer/src/assets/json_source'):\n",
    "    if i.startswith('set_'):\n",
    "        continue\n",
    "    path = 'D:/python/viewer/src/renderer/src/assets/json_source/' + i\n",
    "    d = json.load(open(path, 'r'))\n",
    "    l = list(set(d))\n",
    "    l = [j for j in l if 'http' in j]\n",
    "    l.sort()\n",
    "    print(i, len(l))\n",
    "    with open('D:/python/viewer/src/renderer/src/assets/json/' + 'set_' + i, 'w') as f:\n",
    "        f.write(json.dumps(l))"
   ]
  },
  {
   "cell_type": "code",
   "execution_count": 1,
   "metadata": {},
   "outputs": [
    {
     "data": {
      "text/plain": [
       "1689865205.4453988"
      ]
     },
     "execution_count": 1,
     "metadata": {},
     "output_type": "execute_result"
    }
   ],
   "source": [
    "import time\n",
    "time.time()"
   ]
  }
 ],
 "metadata": {
  "kernelspec": {
   "display_name": "smartedu",
   "language": "python",
   "name": "python3"
  },
  "language_info": {
   "codemirror_mode": {
    "name": "ipython",
    "version": 3
   },
   "file_extension": ".py",
   "mimetype": "text/x-python",
   "name": "python",
   "nbconvert_exporter": "python",
   "pygments_lexer": "ipython3",
   "version": "3.10.11"
  },
  "orig_nbformat": 4
 },
 "nbformat": 4,
 "nbformat_minor": 2
}
